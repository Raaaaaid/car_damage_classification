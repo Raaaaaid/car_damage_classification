{
 "metadata": {
  "language_info": {
   "codemirror_mode": {
    "name": "ipython",
    "version": 3
   },
   "file_extension": ".py",
   "mimetype": "text/x-python",
   "name": "python",
   "nbconvert_exporter": "python",
   "pygments_lexer": "ipython3",
   "version": "3.7.10"
  },
  "orig_nbformat": 4,
  "kernelspec": {
   "name": "python3",
   "display_name": "Python 3.7.10 64-bit ('tensorflow': conda)"
  },
  "interpreter": {
   "hash": "556a80fc2f9ac11b40083a9ebce31ca9a63fac4e8d4d24434daede3b369fb2cc"
  }
 },
 "nbformat": 4,
 "nbformat_minor": 2,
 "cells": [
  {
   "source": [
    "Example notebook to show how modul integration works. \n",
    "Start with getting an image tensor with 1 x Width x Height x 3 dimensions."
   ],
   "cell_type": "markdown",
   "metadata": {}
  },
  {
   "cell_type": "code",
   "execution_count": 8,
   "metadata": {},
   "outputs": [],
   "source": [
    "import car_damage\n",
    "import tensorflow as tf\n",
    "import numpy as np\n",
    "from PIL import Image\n",
    "\n",
    "# Option 1: Read from file path with tf.io\n",
    "image1 = tf.io.read_file('./example_image.jpg')\n",
    "image1 = tf.io.decode_jpeg(image1, channels=3)\n",
    "\n",
    "# Option 2: Convert from an already existing array.\n",
    "image2 = Image.open('./example_image.jpg')\n",
    "image2 = np.asarray(image2)\n",
    "image2 = tf.convert_to_tensor(image2)"
   ]
  },
  {
   "source": [
    "Comparing both arrays you can see that PIL and TensorFlow load the same image with slightly different rbg values. \n",
    "We will see later if it has influence on the results."
   ],
   "cell_type": "markdown",
   "metadata": {}
  },
  {
   "cell_type": "code",
   "execution_count": 9,
   "metadata": {},
   "outputs": [
    {
     "output_type": "stream",
     "name": "stdout",
     "text": [
      "tf.Tensor(\n[[[150 150 142]\n  [150 150 142]\n  [150 150 142]\n  ...\n  [255 255 255]\n  [255 255 255]\n  [255 255 255]]\n\n [[149 149 141]\n  [149 149 141]\n  [149 149 141]\n  ...\n  [255 255 255]\n  [255 255 255]\n  [255 255 255]]\n\n [[147 147 139]\n  [147 147 139]\n  [147 147 139]\n  ...\n  [255 255 255]\n  [255 255 255]\n  [255 255 255]]\n\n ...\n\n [[201 191 166]\n  [202 191 169]\n  [187 179 158]\n  ...\n  [ 77  74  65]\n  [105 102  93]\n  [132 129 120]]\n\n [[218 208 183]\n  [215 204 182]\n  [195 187 166]\n  ...\n  [ 82  79  70]\n  [109 106  97]\n  [135 132 123]]\n\n [[223 213 188]\n  [218 207 185]\n  [195 187 166]\n  ...\n  [ 85  82  73]\n  [112 109 100]\n  [137 134 125]]], shape=(1024, 1024, 3), dtype=uint8)\ntf.Tensor(\n[[[151 150 145]\n  [151 150 145]\n  [150 149 144]\n  ...\n  [255 255 255]\n  [255 255 255]\n  [255 255 255]]\n\n [[149 148 143]\n  [149 148 143]\n  [149 148 143]\n  ...\n  [255 255 255]\n  [255 255 255]\n  [255 255 255]]\n\n [[148 147 142]\n  [148 147 142]\n  [148 147 142]\n  ...\n  [255 255 255]\n  [255 255 255]\n  [255 255 255]]\n\n ...\n\n [[201 191 166]\n  [203 192 170]\n  [189 178 158]\n  ...\n  [ 78  75  68]\n  [106 101  95]\n  [133 128 122]]\n\n [[219 208 186]\n  [216 205 183]\n  [197 186 166]\n  ...\n  [ 83  80  73]\n  [110 105  99]\n  [136 131 125]]\n\n [[224 213 191]\n  [218 207 185]\n  [197 186 168]\n  ...\n  [ 86  83  76]\n  [113 108 102]\n  [138 133 127]]], shape=(1024, 1024, 3), dtype=uint8)\n"
     ]
    }
   ],
   "source": [
    "print(image1)\n",
    "print(image2)"
   ]
  },
  {
   "cell_type": "code",
   "execution_count": null,
   "metadata": {},
   "outputs": [],
   "source": [
    "You need to initizalise the application configs with a json file. Initialisation will take a while, since it also runs one image inference for ressource allocation."
   ]
  },
  {
   "cell_type": "code",
   "execution_count": 13,
   "metadata": {},
   "outputs": [],
   "source": [
    "car_damage.init('./application_config.json')"
   ]
  },
  {
   "cell_type": "code",
   "execution_count": 14,
   "metadata": {},
   "outputs": [
    {
     "output_type": "stream",
     "name": "stdout",
     "text": [
      "{'damage': [('moderate', 0.98487824)], 'location': [('front', 0.94939476)], 'damagetype': []}\n"
     ]
    }
   ],
   "source": [
    "result1 = car_damage.run_classification(image1)\r\n",
    "print(result1)\r\n",
    "result2 = car_damage.run_classification(image2)\r\n",
    "print(result2)"
   ]
  }
 ]
}